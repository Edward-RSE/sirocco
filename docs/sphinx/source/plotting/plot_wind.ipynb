{
 "cells": [
  {
   "attachments": {},
   "cell_type": "markdown",
   "metadata": {},
   "source": [
    "# Plotting Wind Properties\n",
    "As described under [Models](../output/model.rst), Python saves wind properties in binary wind_save files. This notebook explains how to read and plot wind variables for the ```cv_standard``` file found in the examples. Before running the python commands, you need to run the model from the command line. I suggest running the following commands, after you have compiled python:\n",
    "\n",
    "    mkdir cv_test\n",
    "    cd cv_test\n",
    "    cp $PYTHON/examples/basic/cv_standard.pf .\n",
    "    py cv_standard </code>\n",
    "\n",
    "The model will take about 5 minutes to run on a single core. It will not converge, but will give us a model to use as an example. You should then run ```windsave2table``` on the output\n",
    "\n",
    "    windsave2table cv_standard\n",
    "\n",
    "which will create a series of ascii files containing key variables in the wind cells. We will use these ascii files for our plots. \n",
    "\n",
    "## Make A Basic Quick Look Wind Plot\n",
    "\n",
    "The simplest way to make a quick look plot of the electron temperature is using the ```plot_wind.py``` routine in ```$PYTHON/py_progs```. In this example, I will assume py_progs has been added to ```$PATH``` and to ```$PYTHONPATH```. ```plot_wind.py``` can be run from the command line using\n",
    "\n",
    "    plot_wind.py cv_standard t_e\n",
    "    \n",
    "where the second argument is the variable to plot. Alternatively, it can be run from within a python script by doing (where we are now assuming you are running this code from one directory above cv_test):"
   ]
  },
  {
   "cell_type": "code",
   "execution_count": 5,
   "metadata": {},
   "source": [
    "%matplotlib inline\n",
    "import matplotlib.pyplot as plt \n",
    "import numpy as np \n",
    "import plot_wind\n",
    "fname = \"cv_test/cv_standard.master.txt\"\n",
    "plot_wind.doit(fname, var=\"t_e\")"
   ],
   "outputs": []
  },
  {
   "attachments": {},
   "cell_type": "markdown",
   "metadata": {},
   "source": [
    "## More detailed/customisable plots\n",
    "\n",
    "You may, however, wish to get more direct access to the data, which can be done easily by reading in the ```cv_standard.master.txt``` file, for example using ```astropy```. In the next code block, we read in the data file and print out the columns."
   ]
  },
  {
   "cell_type": "code",
   "execution_count": 6,
   "metadata": {},
   "source": [
    "import matplotlib.pyplot as plt\n",
    "import astropy.io.ascii as io \n",
    "\n",
    "data = io.read(fname)\n",
    "\n",
    "print (data.colnames)"
   ],
   "outputs": []
  },
  {
   "attachments": {},
   "cell_type": "markdown",
   "metadata": {},
   "source": [
    " The ```py_plot_util``` script in py_progs comes with a handy guide to the main columns in the .master.txt file and returns a dictionary containing the description for all variables."
   ]
  },
  {
   "cell_type": "code",
   "execution_count": 7,
   "metadata": {},
   "source": [
    "import py_plot_util as util  \n",
    "descr = util.get_windsave_descriptions(data)"
   ],
   "outputs": []
  },
  {
   "attachments": {},
   "cell_type": "markdown",
   "metadata": {},
   "source": [
    "```py_plot_util``` also contains some routines for reshaping and masking arrays and so on. One of the most useful for plotting is the ```wind_to_masked``` function which turns the raw 1D flattened data into a masked 2D array with the right shape which can be easily used with ```pcolormesh``` and so on. Here's an example plot of the electron density in the model."
   ]
  },
  {
   "cell_type": "code",
   "execution_count": 13,
   "metadata": {},
   "source": [
    "x, z, ne, inwind = util.wind_to_masked(data, value_string=\"ne\", return_inwind=True)\n",
    "plt.pcolormesh(x,z, np.log10(ne))\n",
    "plt.loglog()\n",
    "plt.xlim(1e9,1e12)\n",
    "plt.ylim(1e8,1e12)\n",
    "cbar = plt.colorbar()"
   ],
   "outputs": []
  },
  {
   "cell_type": "markdown",
   "metadata": {},
   "source": [
    "This procedure can be used to plot any of the variables in the masterfile and is a good starting point for delving into the properties of the wind. \n",
    "\n",
    "To make a simple multi-panel plot of wind properties, you can use some of the routines in ```py_plot_output```. The example below plots all the variables passed in an array and saves the file as ```cv_standard_wind.png```"
   ]
  },
  {
   "cell_type": "code",
   "execution_count": 18,
   "metadata": {},
   "source": [
    "import py_plot_output as plot \n",
    "plot.make_wind_plot(data, \"cv_standard_wind\", var = [\"ne\", \"t_e\", \"t_r\", \"xi\", \"ntot\", \"v_x\", \"h1\", \"c4\"], shape=(4,2) )"
   ],
   "outputs": []
  },
  {
   "cell_type": "markdown",
   "metadata": {},
   "source": [
    "## Plotting Ion Populations \n",
    "\n",
    "Ion populations outputted from ```windsave2table``` are stored in files like ```cv_standard.C.frac.txt```, where the letter before frac denotes the element. Plots of the C III ion fraction can thus be made through commands like the following, where strings like ```i05``` index the ion for each file. \n"
   ]
  },
  {
   "cell_type": "code",
   "execution_count": 12,
   "metadata": {},
   "source": [
    "carbon_ion = io.read(\"cv_test/cv_standard.C.frac.txt\")\n",
    "x, z, c3_frac, inwind = util.wind_to_masked(carbon_ion, value_string=\"i03\", return_inwind=True)\n",
    "plt.pcolormesh(x,z, np.log10(c3_frac))\n",
    "plt.loglog()\n",
    "plt.xlim(1e9,1e12)\n",
    "plt.ylim(1e8,1e12)\n",
    "cbar = plt.colorbar()"
   ],
   "outputs": []
  },
  {
   "cell_type": "code",
   "execution_count": null,
   "metadata": {},
   "source": [],
   "outputs": []
  }
 ],
 "metadata": {
  "kernelspec": {
   "display_name": "Python 3",
   "language": "python",
   "name": "python3"
  },
  "language_info": {
   "codemirror_mode": {
    "name": "ipython",
    "version": 3
   },
   "file_extension": ".py",
   "mimetype": "text/x-python",
   "name": "python",
   "nbconvert_exporter": "python",
   "pygments_lexer": "ipython3",
   "version": "3.9.13"
  }
 },
 "nbformat": 4,
 "nbformat_minor": 2
}
