{
 "cells": [
  {
   "cell_type": "markdown",
   "metadata": {},
   "source": [
    "# Plotting a Spectrum\n",
    "This notebook explains how to read and plot a spectrum for the ```cv_standard``` file found in the examples. Before running the python commands, you need to run the model from the command line. I suggest running the following commands, after you have compiled python:\n",
    "\n",
    "    mkdir cv_test\n",
    "    cd cv_test\n",
    "    cp $PYTHON/examples/basic/cv_standard.pf .\n",
    "    py cv_standard </code>\n",
    "\n",
    "The model will take about 5 minutes to run on a single core. It will not converge and the spectrum will be a bit noisy, but will give us a model to use as an example. \n",
    "\n",
    "The simplest way to make a quick look spectrum plot is using the ```plot_spec.py``` routine in ```$PYTHON/py_progs```. In this example, I will assume py_progs has been added to ```$PATH``` and to ```$PYTHONPATH```. ```plot_spec.py``` can be run from the command line using\n",
    "\n",
    "    plot_spec.py [-wmin 850 -wmax 1850 -smooth 21] cv_standard\n",
    "    \n",
    "where the flags control the minimum and maximum wavelengths. Alternatively, it can be run from within python by doing:"
   ]
  },
  {
   "cell_type": "code",
   "execution_count": 2,
   "metadata": {},
   "source": [
    "%matplotlib inline\n",
    "import plot_spec \n",
    "wmin, wmax = 850,1800\n",
    "smooth = 21\n",
    "fname = \"cv_test/cv_standard\"\n",
    "plot_spec.do_all_angles(fname, smooth, wmin, wmax)"
   ],
   "outputs": []
  },
  {
   "cell_type": "markdown",
   "metadata": {},
   "source": [
    "You may, however, wish to get more direct access to the data, which can be done easily by reading in the ```cv_standard.spec``` file, for example using ```astropy```. In the next code block, we read in the spectrum file and print out the columns."
   ]
  },
  {
   "cell_type": "code",
   "execution_count": 3,
   "metadata": {},
   "source": [
    "import matplotlib.pyplot as plt\n",
    "import astropy.io.ascii as io \n",
    "\n",
    "s = io.read(\"{}.spec\".format(fname))\n",
    "\n",
    "print (s.colnames)"
   ],
   "outputs": []
  },
  {
   "cell_type": "markdown",
   "metadata": {},
   "source": [
    "The first two columns are:\n",
    "* **Freq.:** frequency in Hz\n",
    "* **Lambda:** wavelength in Angstroms\n",
    "\n",
    "The next set of columns correspond to:\n",
    "* **Created:** total spectrum of all of the photons paakets as created, that is before having been translated through the wind\n",
    "* **WCreated:** spectrum of the photons that are created in the wind before translation\n",
    "* **Emitted:** is the emergent spectrun after the photons have been translated through the wind\n",
    "* **CenSrc:** is the emergent spectrum from photons bundles originating on the Star or BL,\n",
    "* **Disk:** spectrum due to photons starting in the disk\n",
    "* **Wind:** spectrum due to photons starting in the wind\n",
    "* **HitSurf:** photons that did not escape the system but ran into a boundary\n",
    "\n",
    "The remaining columns show the spectrum extracted at various angles, where A45P0.50 denotes an inclination of 45 degrees with respect to the polar axis, and a phase of 0.50 relative to inferior conjunction. Phase only matters if a companion is present. \n",
    "\n",
    "**Units:** The units depend on whether flambda or fnu has been requested by the user, but correspond to CGS units either in per Angstrom or per Hz.\n",
    "\n",
    "We can now plot one of the spectra. "
   ]
  },
  {
   "cell_type": "code",
   "execution_count": 4,
   "metadata": {},
   "source": [
    "angle = 45\n",
    "field = \"A{:.0f}P0.50\".format(angle)\n",
    "plt.plot(s[\"Lambda\"], s[field])"
   ],
   "outputs": []
  },
  {
   "cell_type": "markdown",
   "metadata": {},
   "source": [
    "We can also plot the components contributing to the total escaping spectrum in the requested wavelength range using the ```plot_tot.py``` script. Note that this script reads the ```cv_standard.log_spec_tot``` file and plots the flobal SED in $\\nu L_\\nu$ units as a function of $\\nu$. This file can also be read using astropy but excludes the angle columns. "
   ]
  },
  {
   "cell_type": "code",
   "execution_count": 5,
   "metadata": {},
   "source": [
    "import plot_tot\n",
    "plot_tot.doit(fname, smooth)"
   ],
   "outputs": []
  }
 ],
 "metadata": {
  "kernelspec": {
   "display_name": "Python 3",
   "language": "python",
   "name": "python3"
  },
  "language_info": {
   "codemirror_mode": {
    "name": "ipython",
    "version": 3
   },
   "file_extension": ".py",
   "mimetype": "text/x-python",
   "name": "python",
   "nbconvert_exporter": "python",
   "pygments_lexer": "ipython3",
   "version": "3.9.13"
  }
 },
 "nbformat": 4,
 "nbformat_minor": 2
}
